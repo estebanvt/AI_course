{
 "cells": [
  {
   "cell_type": "code",
   "execution_count": null,
   "id": "1045dd65",
   "metadata": {},
   "outputs": [],
   "source": [
    "import cv2\n",
    "import numpy as np\n",
    "import matplotlib.pyplot as plt"
   ]
  },
  {
   "cell_type": "code",
   "execution_count": null,
   "id": "ad1571bd",
   "metadata": {},
   "outputs": [],
   "source": [
    "img_paths = [\n",
    "    'data/st_louis/st_louis_0.03.jpg',\n",
    "    'data/st_louis/st_louis_0.25.jpg',\n",
    "    'data/st_louis/st_louis_2.5s.jpg',\n",
    "    'data/st_louis/st_louis_15s.jpg',\n",
    "]\n",
    "\n",
    "exposure_times = np.array([\n",
    "    0.03,\n",
    "    0.25,\n",
    "    2.5,\n",
    "    15,\n",
    "])\n",
    "\n",
    "imgs = np.array([\n",
    "    cv2.imread(img_path)[..., ::-1]\n",
    "    for img_path in img_paths\n",
    "])"
   ]
  },
  {
   "cell_type": "code",
   "execution_count": null,
   "id": "e7d69b94",
   "metadata": {},
   "outputs": [],
   "source": [
    "ncols = len(img_paths)\n",
    "\n",
    "fig, axes = plt.subplots(ncols=ncols, figsize=(6*ncols, 6))\n",
    "\n",
    "for img, ax in zip(imgs, axes):\n",
    "    ax.imshow(img)"
   ]
  },
  {
   "cell_type": "markdown",
   "id": "6ce184d5",
   "metadata": {},
   "source": [
    "# Calculate radiometric response function"
   ]
  },
  {
   "cell_type": "code",
   "execution_count": null,
   "id": "278899a6",
   "metadata": {},
   "outputs": [],
   "source": [
    "from lib.hdr_debevec import get_radiometric_response_curve\n",
    "\n",
    "resp_curve = get_radiometric_response_curve(imgs, exposure_times)"
   ]
  },
  {
   "cell_type": "code",
   "execution_count": null,
   "id": "ee84d4e0",
   "metadata": {},
   "outputs": [],
   "source": [
    "fig, ax = plt.subplots()\n",
    "\n",
    "ax.set_xlabel('Pixel values')\n",
    "ax.set_ylabel('Log Exposure')\n",
    "ax.plot(resp_curve)"
   ]
  },
  {
   "cell_type": "markdown",
   "id": "c6991bd8",
   "metadata": {},
   "source": [
    "# Estimate radiance map"
   ]
  },
  {
   "cell_type": "code",
   "execution_count": null,
   "id": "14b8449a",
   "metadata": {},
   "outputs": [],
   "source": [
    "from lib.hdr_debevec import construct_radiance_map\n",
    "\n",
    "rad_map = construct_radiance_map(imgs, resp_curve, exposure_times)"
   ]
  },
  {
   "cell_type": "code",
   "execution_count": null,
   "id": "261cac96",
   "metadata": {},
   "outputs": [],
   "source": [
    "rad_map.dtype"
   ]
  },
  {
   "cell_type": "code",
   "execution_count": null,
   "id": "0d66c955",
   "metadata": {},
   "outputs": [],
   "source": [
    "plt.imshow(np.log(rad_map[..., 0]))"
   ]
  },
  {
   "cell_type": "markdown",
   "id": "091f1fe2",
   "metadata": {},
   "source": [
    "# Tone map\n",
    "\n",
    "For simplicity, we simply use a global gamma correction. There of course more advanced ways to perform tone mapping."
   ]
  },
  {
   "cell_type": "code",
   "execution_count": null,
   "id": "1109f304",
   "metadata": {},
   "outputs": [],
   "source": [
    "gamma = 0.13\n",
    "\n",
    "ldr = np.power(rad_map/rad_map.max(), gamma) * 255\n",
    "ldr = ldr.astype(np.uint8)\n",
    "\n",
    "plt.imshow(ldr)"
   ]
  }
 ],
 "metadata": {
  "kernelspec": {
   "display_name": "maibi_cv",
   "language": "python",
   "name": "maibi_cv"
  },
  "language_info": {
   "codemirror_mode": {
    "name": "ipython",
    "version": 3
   },
   "file_extension": ".py",
   "mimetype": "text/x-python",
   "name": "python",
   "nbconvert_exporter": "python",
   "pygments_lexer": "ipython3",
   "version": "3.9.12"
  }
 },
 "nbformat": 4,
 "nbformat_minor": 5
}
